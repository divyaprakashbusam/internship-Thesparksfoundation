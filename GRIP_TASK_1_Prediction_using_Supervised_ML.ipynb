{
  "nbformat": 4,
  "nbformat_minor": 0,
  "metadata": {
    "colab": {
      "name": "GRIP TASK-1 : Prediction using Supervised ML.ipynb",
      "provenance": []
    },
    "kernelspec": {
      "name": "python3",
      "display_name": "Python 3"
    }
  },
  "cells": [
    {
      "cell_type": "markdown",
      "metadata": {
        "id": "sEsQLgK3ps61"
      },
      "source": [
        "### **Data Science & Business Analytics Internship at The Sparks Foundation**\r\n",
        "\r\n",
        "\r\n",
        "**TASK-1: Prediction using Supervised Machine Learning**\r\n",
        "\r\n",
        "Aim: To Predict the percentage of a student based on the no. of hours he/she \r\n",
        "studied.\r\n"
      ]
    },
    {
      "cell_type": "markdown",
      "metadata": {
        "id": "wUvO3yldv6AA"
      },
      "source": [
        "**Author: Busam Divya Prakash**"
      ]
    },
    {
      "cell_type": "markdown",
      "metadata": {
        "id": "YekgcfrFwJ4e"
      },
      "source": [
        "#### **Step-1: Importing the dataset**\r\n",
        "\r\n"
      ]
    },
    {
      "cell_type": "markdown",
      "metadata": {
        "id": "n8TDkFBOxuP0"
      },
      "source": [
        "In this step we will import the required libraries and we will read the data from the dataset provided."
      ]
    },
    {
      "cell_type": "code",
      "metadata": {
        "id": "7vJTaWlswxRH"
      },
      "source": [
        "import pandas as pd\r\n",
        "import numpy as np  \r\n",
        "import matplotlib.pyplot as plt  \r\n",
        "%matplotlib inline"
      ],
      "execution_count": 1,
      "outputs": []
    },
    {
      "cell_type": "code",
      "metadata": {
        "id": "WVtaJAIUw-5p"
      },
      "source": [
        "url = \"http://bit.ly/w-data\"\r\n",
        "data = pd.read_csv(url)"
      ],
      "execution_count": 2,
      "outputs": []
    },
    {
      "cell_type": "code",
      "metadata": {
        "colab": {
          "base_uri": "https://localhost:8080/",
          "height": 196
        },
        "id": "fpxDC3rNxEc-",
        "outputId": "57a03fee-abaf-4e9a-d787-e5ae4cbcb854"
      },
      "source": [
        "data.head(5)"
      ],
      "execution_count": 3,
      "outputs": [
        {
          "output_type": "execute_result",
          "data": {
            "text/html": [
              "<div>\n",
              "<style scoped>\n",
              "    .dataframe tbody tr th:only-of-type {\n",
              "        vertical-align: middle;\n",
              "    }\n",
              "\n",
              "    .dataframe tbody tr th {\n",
              "        vertical-align: top;\n",
              "    }\n",
              "\n",
              "    .dataframe thead th {\n",
              "        text-align: right;\n",
              "    }\n",
              "</style>\n",
              "<table border=\"1\" class=\"dataframe\">\n",
              "  <thead>\n",
              "    <tr style=\"text-align: right;\">\n",
              "      <th></th>\n",
              "      <th>Hours</th>\n",
              "      <th>Scores</th>\n",
              "    </tr>\n",
              "  </thead>\n",
              "  <tbody>\n",
              "    <tr>\n",
              "      <th>0</th>\n",
              "      <td>2.5</td>\n",
              "      <td>21</td>\n",
              "    </tr>\n",
              "    <tr>\n",
              "      <th>1</th>\n",
              "      <td>5.1</td>\n",
              "      <td>47</td>\n",
              "    </tr>\n",
              "    <tr>\n",
              "      <th>2</th>\n",
              "      <td>3.2</td>\n",
              "      <td>27</td>\n",
              "    </tr>\n",
              "    <tr>\n",
              "      <th>3</th>\n",
              "      <td>8.5</td>\n",
              "      <td>75</td>\n",
              "    </tr>\n",
              "    <tr>\n",
              "      <th>4</th>\n",
              "      <td>3.5</td>\n",
              "      <td>30</td>\n",
              "    </tr>\n",
              "  </tbody>\n",
              "</table>\n",
              "</div>"
            ],
            "text/plain": [
              "   Hours  Scores\n",
              "0    2.5      21\n",
              "1    5.1      47\n",
              "2    3.2      27\n",
              "3    8.5      75\n",
              "4    3.5      30"
            ]
          },
          "metadata": {
            "tags": []
          },
          "execution_count": 3
        }
      ]
    },
    {
      "cell_type": "markdown",
      "metadata": {
        "id": "ZBsBWWL8yaA0"
      },
      "source": [
        "#### **Step-2: Visualizing the dataset**\r\n"
      ]
    },
    {
      "cell_type": "markdown",
      "metadata": {
        "id": "JbXFs39syoEr"
      },
      "source": [
        "Now we will plot a 2-D graph and check whether there's any relation between the two variables or not."
      ]
    },
    {
      "cell_type": "code",
      "metadata": {
        "colab": {
          "base_uri": "https://localhost:8080/",
          "height": 295
        },
        "id": "HEfZEV93zHI_",
        "outputId": "164410cd-b23c-4a2e-f074-2a13533bd796"
      },
      "source": [
        "data.plot(x='Hours', y='Scores', style='^', color='green', markersize=7)  \r\n",
        "plt.title('Hours vs Percentage')  \r\n",
        "plt.xlabel('Hours Studied')  \r\n",
        "plt.ylabel('Percentage Score')  \r\n",
        "plt.grid()\r\n",
        "plt.show()"
      ],
      "execution_count": 5,
      "outputs": [
        {
          "output_type": "display_data",
          "data": {
            "image/png": "[encoded data removed]",
            "text/plain": [
              "<Figure size 432x288 with 1 Axes>"
            ]
          },
          "metadata": {
            "tags": [],
            "needs_background": "light"
          }
        }
      ]
    },
    {
      "cell_type": "markdown",
      "metadata": {
        "id": "a_AB1jLk2ctS"
      },
      "source": [
        "From the above graph, we can observe that there is a linear relationship between \"hours studied\" and \"percentage score\". So, we can use the linear regression supervised machine model to predict further values."
      ]
    },
    {
      "cell_type": "markdown",
      "metadata": {
        "id": "CXy4vMuP29Ud"
      },
      "source": [
        " #### **Step-3: Data preparation**"
      ]
    },
    {
      "cell_type": "markdown",
      "metadata": {
        "id": "SHnEEsgr6DPc"
      },
      "source": [
        "The next step is to divide the data into \"attributes\" (inputs) and \"labels\" (outputs).After that we will split the dataset into two parts as testing data and training data."
      ]
    },
    {
      "cell_type": "code",
      "metadata": {
        "id": "kPki3D6XD2Qj"
      },
      "source": [
        "X = data.iloc[:, :-1].values  \r\n",
        "Y = data.iloc[:, 1].values"
      ],
      "execution_count": 9,
      "outputs": []
    },
    {
      "cell_type": "code",
      "metadata": {
        "id": "PxoIbs2DEnB9"
      },
      "source": [
        "from sklearn.model_selection import train_test_split  \r\n",
        "X_train, X_test, Y_train, Y_test = train_test_split(X, Y, test_size=0.2, random_state=0)"
      ],
      "execution_count": 10,
      "outputs": []
    },
    {
      "cell_type": "markdown",
      "metadata": {
        "id": "sJ6c-a6RE7wV"
      },
      "source": [
        " #### **Step-4: Training the Algorithm** "
      ]
    },
    {
      "cell_type": "markdown",
      "metadata": {
        "id": "elQiwAafFji0"
      },
      "source": [
        "Now its time to train our algorithm."
      ]
    },
    {
      "cell_type": "code",
      "metadata": {
        "colab": {
          "base_uri": "https://localhost:8080/"
        },
        "id": "d-AgttLDFh_u",
        "outputId": "17cad20d-e9a7-43f7-d6d6-c8281aa3db51"
      },
      "source": [
        "from sklearn.linear_model import LinearRegression  \r\n",
        "\r\n",
        "model = LinearRegression()  \r\n",
        "model.fit(X_train, Y_train)"
      ],
      "execution_count": 12,
      "outputs": [
        {
          "output_type": "execute_result",
          "data": {
            "text/plain": [
              "LinearRegression(copy_X=True, fit_intercept=True, n_jobs=None, normalize=False)"
            ]
          },
          "metadata": {
            "tags": []
          },
          "execution_count": 12
        }
      ]
    },
    {
      "cell_type": "markdown",
      "metadata": {
        "id": "1peeriy9GHE6"
      },
      "source": [
        " #### **Step-5: Visualizing the model** "
      ]
    },
    {
      "cell_type": "markdown",
      "metadata": {
        "id": "awO7eyiiGVEs"
      },
      "source": [
        "After training the algorithm, now we will visualize the model."
      ]
    },
    {
      "cell_type": "code",
      "metadata": {
        "colab": {
          "base_uri": "https://localhost:8080/",
          "height": 279
        },
        "id": "sUbbo9yZFFHl",
        "outputId": "14692b32-6892-45a7-c85a-da16df57cdd4"
      },
      "source": [
        "line = model.coef_*X + model.intercept_\r\n",
        "\r\n",
        "# Plotting for the training data\r\n",
        "plt.scatter(X_train, Y_train, color='red')\r\n",
        "plt.plot(X, line, color='green');\r\n",
        "plt.xlabel('Hours Studied')  \r\n",
        "plt.ylabel('Percentage Score') \r\n",
        "plt.grid()\r\n",
        "plt.show()"
      ],
      "execution_count": 14,
      "outputs": [
        {
          "output_type": "display_data",
          "data": {
            "image/png": "[encoded data removed]",
            "text/plain": [
              "<Figure size 432x288 with 1 Axes>"
            ]
          },
          "metadata": {
            "tags": [],
            "needs_background": "light"
          }
        }
      ]
    },
    {
      "cell_type": "code",
      "metadata": {
        "colab": {
          "base_uri": "https://localhost:8080/",
          "height": 279
        },
        "id": "bwM_p72uG5jB",
        "outputId": "23bfae05-9249-4cb7-9986-962562712479"
      },
      "source": [
        "# Plotting for the testing data\r\n",
        "\r\n",
        "plt.scatter(X_test, Y_test, color='red')\r\n",
        "plt.plot(X, line, color='green');\r\n",
        "plt.xlabel('Hours Studied')  \r\n",
        "plt.ylabel('Percentage Score') \r\n",
        "plt.grid()\r\n",
        "plt.show()"
      ],
      "execution_count": 15,
      "outputs": [
        {
          "output_type": "display_data",
          "data": {
            "image/png": "[encoded data removed]",
            "text/plain": [
              "<Figure size 432x288 with 1 Axes>"
            ]
          },
          "metadata": {
            "tags": [],
            "needs_background": "light"
          }
        }
      ]
    },
    {
      "cell_type": "markdown",
      "metadata": {
        "id": "PAmeoGhBHQeH"
      },
      "source": [
        " #### **Step-6: Making Predictions** "
      ]
    },
    {
      "cell_type": "markdown",
      "metadata": {
        "id": "d6h4PRYLHhJG"
      },
      "source": [
        "Now, it's time to make some predictions."
      ]
    },
    {
      "cell_type": "code",
      "metadata": {
        "id": "P7F2EpvgHZnX"
      },
      "source": [
        "Y_predicted = model.predict(X_test)"
      ],
      "execution_count": 16,
      "outputs": []
    },
    {
      "cell_type": "code",
      "metadata": {
        "colab": {
          "base_uri": "https://localhost:8080/",
          "height": 196
        },
        "id": "1LnkJw1uHyRZ",
        "outputId": "0b9a735d-7caa-4feb-ab72-c477e993e621"
      },
      "source": [
        "# Comparing Actual vs Predicted\r\n",
        "\r\n",
        "df = pd.DataFrame({'Actual score': Y_test, 'Predicted score': Y_predicted})  \r\n",
        "df"
      ],
      "execution_count": 17,
      "outputs": [
        {
          "output_type": "execute_result",
          "data": {
            "text/html": [
              "<div>\n",
              "<style scoped>\n",
              "    .dataframe tbody tr th:only-of-type {\n",
              "        vertical-align: middle;\n",
              "    }\n",
              "\n",
              "    .dataframe tbody tr th {\n",
              "        vertical-align: top;\n",
              "    }\n",
              "\n",
              "    .dataframe thead th {\n",
              "        text-align: right;\n",
              "    }\n",
              "</style>\n",
              "<table border=\"1\" class=\"dataframe\">\n",
              "  <thead>\n",
              "    <tr style=\"text-align: right;\">\n",
              "      <th></th>\n",
              "      <th>Actual score</th>\n",
              "      <th>Predicted score</th>\n",
              "    </tr>\n",
              "  </thead>\n",
              "  <tbody>\n",
              "    <tr>\n",
              "      <th>0</th>\n",
              "      <td>20</td>\n",
              "      <td>16.884145</td>\n",
              "    </tr>\n",
              "    <tr>\n",
              "      <th>1</th>\n",
              "      <td>27</td>\n",
              "      <td>33.732261</td>\n",
              "    </tr>\n",
              "    <tr>\n",
              "      <th>2</th>\n",
              "      <td>69</td>\n",
              "      <td>75.357018</td>\n",
              "    </tr>\n",
              "    <tr>\n",
              "      <th>3</th>\n",
              "      <td>30</td>\n",
              "      <td>26.794801</td>\n",
              "    </tr>\n",
              "    <tr>\n",
              "      <th>4</th>\n",
              "      <td>62</td>\n",
              "      <td>60.491033</td>\n",
              "    </tr>\n",
              "  </tbody>\n",
              "</table>\n",
              "</div>"
            ],
            "text/plain": [
              "   Actual score  Predicted score\n",
              "0            20        16.884145\n",
              "1            27        33.732261\n",
              "2            69        75.357018\n",
              "3            30        26.794801\n",
              "4            62        60.491033"
            ]
          },
          "metadata": {
            "tags": []
          },
          "execution_count": 17
        }
      ]
    },
    {
      "cell_type": "markdown",
      "metadata": {
        "id": "0uGDKKDjIN4e"
      },
      "source": [
        "#### **What will be predicted score if a student studies for 9.25 hrs/ day?**"
      ]
    },
    {
      "cell_type": "code",
      "metadata": {
        "colab": {
          "base_uri": "https://localhost:8080/"
        },
        "id": "q6a01mHDInPf",
        "outputId": "46d6328c-9251-4e22-f6f8-014a26276c77"
      },
      "source": [
        "# Testing with your own data\r\n",
        "\r\n",
        "hours = 9.25\r\n",
        "own_pred = model.predict([[hours]])\r\n",
        "print(\"The predicted score if a person studies for\",hours,\"hours is\",own_pred[0])"
      ],
      "execution_count": 18,
      "outputs": [
        {
          "output_type": "stream",
          "text": [
            "The predicted score if a person studies for 9.25 hours is 93.69173248737539\n"
          ],
          "name": "stdout"
        }
      ]
    },
    {
      "cell_type": "markdown",
      "metadata": {
        "id": "Ij1ynB-gJDnV"
      },
      "source": [
        "Hence, the predicted score for a student if he/she studies for 9.25 hours is 93.69173248737538"
      ]
    },
    {
      "cell_type": "markdown",
      "metadata": {
        "id": "9BiaOANxJYxp"
      },
      "source": [
        " #### **Step-7: Evaluating the model** "
      ]
    },
    {
      "cell_type": "markdown",
      "metadata": {
        "id": "YVE-O2c4Jyxs"
      },
      "source": [
        "In the last step, we are going to evaluate our trained model by calculating the mean absolute error"
      ]
    },
    {
      "cell_type": "code",
      "metadata": {
        "colab": {
          "base_uri": "https://localhost:8080/"
        },
        "id": "0pFU4yadJ4kD",
        "outputId": "f9d700c5-918b-4f4b-cd69-0b2fc5ca2f96"
      },
      "source": [
        "from sklearn import metrics  \r\n",
        "\r\n",
        "print('Mean Absolute Error:', metrics.mean_absolute_error(Y_test, Y_predicted))"
      ],
      "execution_count": 19,
      "outputs": [
        {
          "output_type": "stream",
          "text": [
            "Mean Absolute Error: 4.183859899002982\n"
          ],
          "name": "stdout"
        }
      ]
    }
  ]
}